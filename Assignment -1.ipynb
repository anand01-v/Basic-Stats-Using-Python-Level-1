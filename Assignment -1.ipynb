{
 "cells": [
  {
   "cell_type": "markdown",
   "id": "91f8f64f",
   "metadata": {},
   "source": [
    "#### Question 7\n",
    "    Calculate Mean, Median, Mode, Variance, Standard Deviation, Range &     comment about the values / draw inferences, for the given dataset\n",
    "    For Points,Score,Weigh>\n",
    "    Find Mean, Median, Mode, Variance, Standard Deviation, and Range and also Comment about the values/ Draw some inferences.\n",
    "    \n",
    "- Use Q7.csv file \n"
   ]
  },
  {
   "cell_type": "code",
   "execution_count": 1,
   "id": "c0bb2100",
   "metadata": {
    "ExecuteTime": {
     "end_time": "2023-03-26T14:42:10.427548Z",
     "start_time": "2023-03-26T14:42:09.982784Z"
    }
   },
   "outputs": [
    {
     "name": "stdout",
     "output_type": "stream",
     "text": [
      "          Points      Score      Weigh\n",
      "count  32.000000  32.000000  32.000000\n",
      "mean    3.596563   3.217250  17.848750\n",
      "std     0.534679   0.978457   1.786943\n",
      "min     2.760000   1.513000  14.500000\n",
      "25%     3.080000   2.581250  16.892500\n",
      "50%     3.695000   3.325000  17.710000\n",
      "75%     3.920000   3.610000  18.900000\n",
      "max     4.930000   5.424000  22.900000\n",
      "\n",
      " Points:\n",
      " \n",
      "Mean of points is 3.5965625000000006\n",
      "Median of points is 3.6950000000000003\n",
      "Mode of points is 0    3.07\n",
      "1    3.92\n",
      "Name: Points, dtype: float64\n",
      "Variance of points is 0.28588135080645166\n",
      "Standard Deviation of points is 0.5346787360709716\n",
      "Range of points is ( 2.76 , 4.93 )\n",
      "\n",
      " Score:\n",
      " \n",
      "Mean of score is 3.2172499999999995\n",
      "Median of score is 3.325\n",
      "Mode of score is 0    3.44\n",
      "Name: Score, dtype: float64\n",
      "Variance of score is 0.9573789677419356\n",
      "Standard Deviation of score is 0.9784574429896967\n",
      "Range of score is ( 1.513 , 5.424 )\n",
      "\n",
      "Weigh:\n",
      " \n",
      "Mean of weigh is 17.848750000000003\n",
      "Median of weigh is 17.71\n",
      "Mode of weigh is 0    17.02\n",
      "1    18.90\n",
      "Name: Weigh, dtype: float64\n",
      "Variance of weigh is 3.193166129032258\n",
      "Standard Deviation of weigh is 1.7869432360968431\n",
      "Range of weigh is ( 14.5 , 22.9 )\n"
     ]
    }
   ],
   "source": [
    "import pandas as pd\n",
    "q7 = pd.read_csv(\"Q7.csv\")\n",
    "#q7.head()\n",
    "print(q7.describe())\n",
    "print(\"\\n Points:\\n \")\n",
    "print(\"Mean of points is\", q7[\"Points\"].mean())\n",
    "print(\"Median of points is\", q7[\"Points\"].median())\n",
    "print(\"Mode of points is\", q7[\"Points\"].mode())\n",
    "print(\"Variance of points is\", q7[\"Points\"].var())\n",
    "print(\"Standard Deviation of points is\", q7[\"Points\"].std())\n",
    "print(\"Range of points is\",\"(\",q7[\"Points\"].min(),\",\",q7[\"Points\"].max(),\")\")\n",
    "print(\"\\n Score:\\n \")\n",
    "print(\"Mean of score is\", q7[\"Score\"].mean())\n",
    "print(\"Median of score is\", q7[\"Score\"].median())\n",
    "print(\"Mode of score is\", q7[\"Score\"].mode())\n",
    "print(\"Variance of score is\", q7[\"Score\"].var())\n",
    "print(\"Standard Deviation of score is\", q7[\"Score\"].std())\n",
    "print(\"Range of score is\",\"(\",q7[\"Score\"].min(),\",\",q7[\"Score\"].max(),\")\")\n",
    "print(\"\\nWeigh:\\n \")\n",
    "print(\"Mean of weigh is\", q7[\"Weigh\"].mean())\n",
    "print(\"Median of weigh is\", q7[\"Weigh\"].median())\n",
    "print(\"Mode of weigh is\", q7[\"Weigh\"].mode())\n",
    "print(\"Variance of weigh is\", q7[\"Weigh\"].var())\n",
    "print(\"Standard Deviation of weigh is\", q7[\"Weigh\"].std())\n",
    "print(\"Range of weigh is\",\"(\",q7[\"Weigh\"].min(),\",\",q7[\"Weigh\"].max(),\")\")"
   ]
  },
  {
   "cell_type": "markdown",
   "id": "9e6840f1",
   "metadata": {},
   "source": [
    "#### Question 9(a) \n",
    "    Calculate Skewness, Kurtosis & draw inferences on the following data Cars speed and distance \n",
    "\n",
    "- Use Q9_a.csv\n"
   ]
  },
  {
   "cell_type": "code",
   "execution_count": 2,
   "id": "895701d3",
   "metadata": {
    "ExecuteTime": {
     "end_time": "2023-03-26T14:42:10.457828Z",
     "start_time": "2023-03-26T14:42:10.429547Z"
    },
    "scrolled": true
   },
   "outputs": [
    {
     "name": "stdout",
     "output_type": "stream",
     "text": [
      "\n",
      "Skewness \n",
      " Index    0.000000\n",
      "speed   -0.117510\n",
      "dist     0.806895\n",
      "dtype: float64\n",
      "\n",
      "Kurtosis \n",
      " Index   -1.200000\n",
      "speed   -0.508994\n",
      "dist     0.405053\n",
      "dtype: float64\n",
      "\n",
      "Mean \n",
      " Index    25.50\n",
      "speed    15.40\n",
      "dist     42.98\n",
      "dtype: float64\n",
      "\n",
      "Median \n",
      " Index    25.5\n",
      "speed    15.0\n",
      "dist     36.0\n",
      "dtype: float64\n"
     ]
    }
   ],
   "source": [
    "a=pd.read_csv(\"Q9_a.csv\")\n",
    "#print(a.head())\n",
    "print(\"\\nSkewness \\n\",a.skew())\n",
    "print(\"\\nKurtosis \\n\",a.kurt())\n",
    "print(\"\\nMean \\n\",a.mean())\n",
    "print(\"\\nMedian \\n\",a.median())\n",
    "#print(a[[\"speed\",\"dist\"]].mean())"
   ]
  },
  {
   "cell_type": "markdown",
   "id": "0e912327",
   "metadata": {},
   "source": [
    "#### Question 9(b) \n",
    "    SP and Weight(WT)\n",
    "\n",
    "- Use Q9_b.csv\n"
   ]
  },
  {
   "cell_type": "code",
   "execution_count": 3,
   "id": "79d3d128",
   "metadata": {
    "ExecuteTime": {
     "end_time": "2023-03-26T14:42:10.489314Z",
     "start_time": "2023-03-26T14:42:10.458930Z"
    },
    "scrolled": true
   },
   "outputs": [
    {
     "name": "stdout",
     "output_type": "stream",
     "text": [
      "\n",
      "Skewness \n",
      " Unnamed: 0    0.000000\n",
      "SP            1.611450\n",
      "WT           -0.614753\n",
      "dtype: float64\n",
      "\n",
      "Kurtosis \n",
      " Unnamed: 0   -1.200000\n",
      "SP            2.977329\n",
      "WT            0.950291\n",
      "dtype: float64\n",
      "\n",
      "Mean \n",
      " Unnamed: 0     41.000000\n",
      "SP            121.540272\n",
      "WT             32.412577\n",
      "dtype: float64\n",
      "\n",
      "Median \n",
      " Unnamed: 0     41.000000\n",
      "SP            118.208698\n",
      "WT             32.734518\n",
      "dtype: float64\n"
     ]
    }
   ],
   "source": [
    "import pandas as pd\n",
    "b=pd.read_csv(\"Q9_b.csv\")\n",
    "#print(b.head())\n",
    "print(\"\\nSkewness \\n\",b.skew())\n",
    "print(\"\\nKurtosis \\n\",b.kurt())\n",
    "print(\"\\nMean \\n\",b.mean())\n",
    "print(\"\\nMedian \\n\",b.median())"
   ]
  },
  {
   "cell_type": "markdown",
   "id": "bc36e5f6",
   "metadata": {},
   "source": [
    "#### Question 11 \n",
    "- Suppose we want to estimate the average weight of an adult male in    Mexico. We draw a random sample of 2,000 men from a population of 3,000,000 men and weigh them. We find that the average person in our sample weighs 200 pounds, and the standard deviation of the sample is 30 pounds. Calculate 94%,98%,96% confidence interval?"
   ]
  },
  {
   "cell_type": "code",
   "execution_count": 4,
   "id": "c2896ae2",
   "metadata": {
    "ExecuteTime": {
     "end_time": "2023-03-26T14:42:10.830007Z",
     "start_time": "2023-03-26T14:42:10.492411Z"
    },
    "scrolled": true
   },
   "outputs": [
    {
     "name": "stdout",
     "output_type": "stream",
     "text": [
      "Confidence Intervals for 94% \n",
      "  (143.57619175546247, 256.42380824453755)\n",
      "Confidence Intervals for 98% \n",
      "  (130.2095637787748, 269.7904362212252)\n",
      "Confidence Intervals for 96% \n",
      "  (138.38753268104531, 261.61246731895466)\n"
     ]
    }
   ],
   "source": [
    "from scipy import stats\n",
    "print(\"Confidence Intervals for 94% \\n \",stats.norm.interval(.94,loc=200,scale=30))\n",
    "print(\"Confidence Intervals for 98% \\n \",stats.norm.interval(.98,loc=200,scale=30))\n",
    "print(\"Confidence Intervals for 96% \\n \",stats.norm.interval(.96,loc=200,scale=30))"
   ]
  },
  {
   "cell_type": "markdown",
   "id": "2737f4db",
   "metadata": {},
   "source": [
    "### Question 12\n",
    "- Below are the scores obtained by a student in tests \n",
    "    34,36,36,38,38,39,39,40,40,41,41,41,41,42,42,45,49,56\n",
    "\n",
    "1)\tFind mean, median, variance, standard deviation.\n",
    "\n",
    "2)\tWhat can we say about the student marks? \n"
   ]
  },
  {
   "cell_type": "code",
   "execution_count": 5,
   "id": "ee477484",
   "metadata": {
    "ExecuteTime": {
     "end_time": "2023-03-26T14:42:10.845629Z",
     "start_time": "2023-03-26T14:42:10.831008Z"
    }
   },
   "outputs": [
    {
     "name": "stdout",
     "output_type": "stream",
     "text": [
      "\n",
      "Mean\n",
      " 41.0\n",
      "\n",
      "Median\n",
      " 40.5\n",
      "\n",
      "Variance\n",
      " 24.11111111111111\n",
      "\n",
      "Standard Deviation\n",
      " 4.910306620885412\n"
     ]
    }
   ],
   "source": [
    "import numpy as np\n",
    "c=np.array([34,36,36,38,38,39,39,40,40,41,41,41,41,42,42,45,49,56])\n",
    "print(\"\\nMean\\n\",np.mean(c))\n",
    "print(\"\\nMedian\\n\",np.median(c))\n",
    "print(\"\\nVariance\\n\",np.var(c))\n",
    "print(\"\\nStandard Deviation\\n\",np.std(c))"
   ]
  },
  {
   "cell_type": "markdown",
   "id": "b8f2bc6a",
   "metadata": {},
   "source": [
    "### Question 20\n",
    "    Calculate probability from the given dataset for the below cases\n",
    "\n",
    "- Data _set: Cars.csv\n",
    "\n",
    "      Calculate the probability of MPG  of Cars for the below cases.\n",
    "            \n",
    "              MPG <- Cars$MPG\n",
    "       \n",
    "a.\tP(MPG>38)\n",
    "b.\tP(MPG<40)\n",
    "c.\tP (20<MPG<50)\n"
   ]
  },
  {
   "cell_type": "code",
   "execution_count": 6,
   "id": "cf31073d",
   "metadata": {
    "ExecuteTime": {
     "end_time": "2023-03-26T14:42:10.877340Z",
     "start_time": "2023-03-26T14:42:10.847188Z"
    }
   },
   "outputs": [
    {
     "data": {
      "text/html": [
       "<div>\n",
       "<style scoped>\n",
       "    .dataframe tbody tr th:only-of-type {\n",
       "        vertical-align: middle;\n",
       "    }\n",
       "\n",
       "    .dataframe tbody tr th {\n",
       "        vertical-align: top;\n",
       "    }\n",
       "\n",
       "    .dataframe thead th {\n",
       "        text-align: right;\n",
       "    }\n",
       "</style>\n",
       "<table border=\"1\" class=\"dataframe\">\n",
       "  <thead>\n",
       "    <tr style=\"text-align: right;\">\n",
       "      <th></th>\n",
       "      <th>HP</th>\n",
       "      <th>MPG</th>\n",
       "      <th>VOL</th>\n",
       "      <th>SP</th>\n",
       "      <th>WT</th>\n",
       "    </tr>\n",
       "  </thead>\n",
       "  <tbody>\n",
       "    <tr>\n",
       "      <th>0</th>\n",
       "      <td>49</td>\n",
       "      <td>53.700681</td>\n",
       "      <td>89</td>\n",
       "      <td>104.185353</td>\n",
       "      <td>28.762059</td>\n",
       "    </tr>\n",
       "    <tr>\n",
       "      <th>1</th>\n",
       "      <td>55</td>\n",
       "      <td>50.013401</td>\n",
       "      <td>92</td>\n",
       "      <td>105.461264</td>\n",
       "      <td>30.466833</td>\n",
       "    </tr>\n",
       "    <tr>\n",
       "      <th>2</th>\n",
       "      <td>55</td>\n",
       "      <td>50.013401</td>\n",
       "      <td>92</td>\n",
       "      <td>105.461264</td>\n",
       "      <td>30.193597</td>\n",
       "    </tr>\n",
       "    <tr>\n",
       "      <th>3</th>\n",
       "      <td>70</td>\n",
       "      <td>45.696322</td>\n",
       "      <td>92</td>\n",
       "      <td>113.461264</td>\n",
       "      <td>30.632114</td>\n",
       "    </tr>\n",
       "    <tr>\n",
       "      <th>4</th>\n",
       "      <td>53</td>\n",
       "      <td>50.504232</td>\n",
       "      <td>92</td>\n",
       "      <td>104.461264</td>\n",
       "      <td>29.889149</td>\n",
       "    </tr>\n",
       "  </tbody>\n",
       "</table>\n",
       "</div>"
      ],
      "text/plain": [
       "   HP        MPG  VOL          SP         WT\n",
       "0  49  53.700681   89  104.185353  28.762059\n",
       "1  55  50.013401   92  105.461264  30.466833\n",
       "2  55  50.013401   92  105.461264  30.193597\n",
       "3  70  45.696322   92  113.461264  30.632114\n",
       "4  53  50.504232   92  104.461264  29.889149"
      ]
     },
     "execution_count": 6,
     "metadata": {},
     "output_type": "execute_result"
    }
   ],
   "source": [
    "from scipy import stats \n",
    "x=pd.read_csv(\"Cars.csv\")\n",
    "x.head()"
   ]
  },
  {
   "cell_type": "code",
   "execution_count": 7,
   "id": "5b2c1240",
   "metadata": {
    "ExecuteTime": {
     "end_time": "2023-03-26T14:42:10.892241Z",
     "start_time": "2023-03-26T14:42:10.878361Z"
    },
    "scrolled": false
   },
   "outputs": [
    {
     "name": "stdout",
     "output_type": "stream",
     "text": [
      "P(MPG > 38) \n",
      " 0.3475939251582705\n",
      "P(MPG < 40) \n",
      " 0.7293498762151616\n",
      "P(20 < MPG < 50) \n",
      " 0.8988689169682046\n"
     ]
    }
   ],
   "source": [
    "#P(MPG > 38)\n",
    "print(\"P(MPG > 38) \\n\",1-stats.norm.cdf(38,x[\"MPG\"].mean(),x[\"MPG\"].std()))\n",
    "#P(MPG < 40)\n",
    "print(\"P(MPG < 40) \\n\",stats.norm.cdf(40,x[\"MPG\"].mean(),x[\"MPG\"].std()))\n",
    "#P(20 < MPG < 50)\n",
    "print(\"P(20 < MPG < 50) \\n\",stats.norm.cdf(50,x[\"MPG\"].mean(),x[\"MPG\"].std()) - stats.norm.cdf(20,x[\"MPG\"].mean(),x[\"MPG\"].std()))"
   ]
  },
  {
   "cell_type": "markdown",
   "id": "09a5f88f",
   "metadata": {},
   "source": [
    "#### Question 21(a)\n",
    "    Check whether the data follows normal distribution\n",
    "\n",
    "a)\tCheck whether the MPG of Cars follows Normal Distribution \n",
    "\n",
    "- Dataset: Cars.csv\n"
   ]
  },
  {
   "cell_type": "code",
   "execution_count": 8,
   "id": "ef6e2a7f",
   "metadata": {
    "ExecuteTime": {
     "end_time": "2023-03-26T14:42:11.885896Z",
     "start_time": "2023-03-26T14:42:10.893236Z"
    }
   },
   "outputs": [
    {
     "name": "stdout",
     "output_type": "stream",
     "text": [
      "Mean \n",
      " 34.422075728024666\n",
      "Median \n",
      " 35.15272697\n",
      "Mode \n",
      " 0    29.629936\n",
      "Name: MPG, dtype: float64\n",
      "Skewness \n",
      " -0.17794674747025727\n",
      "Kurtosis \n",
      " -0.6116786559430913\n"
     ]
    },
    {
     "data": {
      "text/plain": [
       "<AxesSubplot:xlabel='MPG', ylabel='Density'>"
      ]
     },
     "execution_count": 8,
     "metadata": {},
     "output_type": "execute_result"
    },
    {
     "data": {
      "image/png": "[encoded data removed]",
      "text/plain": [
       "<Figure size 432x288 with 1 Axes>"
      ]
     },
     "metadata": {
      "needs_background": "light"
     },
     "output_type": "display_data"
    }
   ],
   "source": [
    "#To check if the MPG is normally distributed\n",
    "import matplotlib.pyplot as plt, seaborn as sns\n",
    "print(\"Mean \\n\",x[\"MPG\"].mean())\n",
    "print(\"Median \\n\",x[\"MPG\"].median())\n",
    "print(\"Mode \\n\",x[\"MPG\"].mode())\n",
    "print(\"Skewness \\n\",x[\"MPG\"].skew())\n",
    "print(\"Kurtosis \\n\",x[\"MPG\"].kurt())\n",
    "import warnings\n",
    "warnings.filterwarnings(\"ignore\")\n",
    "sns.distplot(x[\"MPG\"])\n"
   ]
  },
  {
   "cell_type": "markdown",
   "id": "35250ed5",
   "metadata": {},
   "source": [
    "The MPG is not normally distributed since, the mean,median, and mode are not equal.It is asymmetric and platykurtic data.  "
   ]
  },
  {
   "cell_type": "markdown",
   "id": "83fa024a",
   "metadata": {},
   "source": [
    "#### Question 21(b)\n",
    "    Check Whether the Adipose Tissue (AT) and Waist Circumference(Waist)  from wc-at data set  follows Normal Distribution \n",
    "- Dataset: wc-at.csv\n"
   ]
  },
  {
   "cell_type": "code",
   "execution_count": 9,
   "id": "bdfdbb78",
   "metadata": {
    "ExecuteTime": {
     "end_time": "2023-03-26T14:42:12.041743Z",
     "start_time": "2023-03-26T14:42:11.887400Z"
    }
   },
   "outputs": [
    {
     "name": "stdout",
     "output_type": "stream",
     "text": [
      "Mean \n",
      " 193.79587155963304\n",
      "Median \n",
      " Waist    90.80\n",
      "AT       96.54\n",
      "dtype: float64\n",
      "Mode \n",
      "    Waist     AT\n",
      "0   94.5  121.0\n",
      "1  106.0  123.0\n",
      "2  108.5    NaN\n",
      "Skewness \n",
      " Waist    0.134056\n",
      "AT       0.584869\n",
      "dtype: float64\n",
      "Kurtosis \n",
      " Waist   -1.102667\n",
      "AT      -0.285576\n",
      "dtype: float64\n"
     ]
    },
    {
     "data": {
      "text/plain": [
       "<AxesSubplot:ylabel='Density'>"
      ]
     },
     "execution_count": 9,
     "metadata": {},
     "output_type": "execute_result"
    },
    {
     "data": {
      "image/png": "[encoded data removed]",
      "text/plain": [
       "<Figure size 432x288 with 1 Axes>"
      ]
     },
     "metadata": {
      "needs_background": "light"
     },
     "output_type": "display_data"
    }
   ],
   "source": [
    "y=pd.read_csv(\"wc-at.csv\")\n",
    "print(\"Mean \\n\",y.mean().sum())\n",
    "print(\"Median \\n\",y.median())\n",
    "print(\"Mode \\n\",y.mode())\n",
    "print(\"Skewness \\n\",y.skew())\n",
    "print(\"Kurtosis \\n\",y.kurt())\n",
    "import warnings\n",
    "warnings.filterwarnings(\"ignore\")\n",
    "sns.distplot(y)\n"
   ]
  },
  {
   "cell_type": "markdown",
   "id": "d1917b93",
   "metadata": {},
   "source": [
    "Therefore it does not follow normal distribution since, the mean,median, and mode are not equal.It is asymmetric and platykurtic data."
   ]
  },
  {
   "cell_type": "markdown",
   "id": "e136fa98",
   "metadata": {},
   "source": [
    "#### Question 22\n",
    "- Calculate the Z scores of 90% confidence interval,94% confidence interval, 60% confidence interval "
   ]
  },
  {
   "cell_type": "code",
   "execution_count": 10,
   "id": "f6bf8b83",
   "metadata": {
    "ExecuteTime": {
     "end_time": "2023-03-26T14:42:12.057403Z",
     "start_time": "2023-03-26T14:42:12.043745Z"
    }
   },
   "outputs": [
    {
     "name": "stdout",
     "output_type": "stream",
     "text": [
      "Z-score of 90% confidence Interval 1.6448536269514722\n",
      "Z-score of 94% confidence Interval 1.8807936081512509\n",
      "Z-score of 60% confidence Interval 0.8416212335729143\n"
     ]
    }
   ],
   "source": [
    "from scipy import stats\n",
    "print(\"Z-score of 90% confidence Interval\",stats.norm.ppf(.95))\n",
    "print(\"Z-score of 94% confidence Interval\",stats.norm.ppf(.97))\n",
    "print(\"Z-score of 60% confidence Interval\",stats.norm.ppf(.80))"
   ]
  },
  {
   "cell_type": "markdown",
   "id": "a97b9013",
   "metadata": {},
   "source": [
    "#### Question 23\n",
    "- ) Calculate the t scores of 95% confidence interval, 96% confidence      interval, 99% confidence interval for sample size of 25"
   ]
  },
  {
   "cell_type": "code",
   "execution_count": 11,
   "id": "1f18a4c6",
   "metadata": {
    "ExecuteTime": {
     "end_time": "2023-03-26T14:42:12.073394Z",
     "start_time": "2023-03-26T14:42:12.059029Z"
    }
   },
   "outputs": [
    {
     "name": "stdout",
     "output_type": "stream",
     "text": [
      "T-score for 95% Confidence Interval is \n",
      " 2.0638985616280205\n",
      "T-score for 96% Confidence Interval is \n",
      " 2.1715446760080677\n",
      "T-score for 99% Confidence Interval is \n",
      " 2.796939504772804\n"
     ]
    }
   ],
   "source": [
    "print(\"T-score for 95% Confidence Interval is \\n\",stats.t.ppf(0.975,24))\n",
    "print(\"T-score for 96% Confidence Interval is \\n\",stats.t.ppf(0.98,24))\n",
    "print(\"T-score for 99% Confidence Interval is \\n\",stats.t.ppf(0.995,24))"
   ]
  },
  {
   "cell_type": "markdown",
   "id": "288b4e29",
   "metadata": {
    "ExecuteTime": {
     "end_time": "2023-02-03T19:27:48.381008Z",
     "start_time": "2023-02-03T19:27:48.366069Z"
    }
   },
   "source": [
    "#### Question 24\n",
    "- A Government  company claims that an average light bulb lasts 270 days. A researcher randomly selects 18 bulbs for testing. The sampled bulbs last an average of 260 days, with a standard deviation of 90 days. If the CEO's claim were true, what is the probability that 18 randomly selected bulbs would have an average life of no more than 260 days\n",
    "\n",
    "    Hint:\n",
    "\n",
    "     rcode--->pt(tscore,df)  \n",
    " \n",
    "     df--->degrees of freedom\n"
   ]
  },
  {
   "cell_type": "code",
   "execution_count": 12,
   "id": "4b001e9e",
   "metadata": {
    "ExecuteTime": {
     "end_time": "2023-03-26T14:42:12.089190Z",
     "start_time": "2023-03-26T14:42:12.075383Z"
    }
   },
   "outputs": [
    {
     "name": "stdout",
     "output_type": "stream",
     "text": [
      "The value of t-score is -0.4714045207910317\n",
      "\n",
      "The probability value is 0.32167253567098353\n"
     ]
    }
   ],
   "source": [
    "#To calculate the t-score\n",
    "from math import *\n",
    "t=(260-270)/(90/sqrt(18)) # t= (x-myu)/s/sqrt n\n",
    "print(\"The value of t-score is\",t)\n",
    "#To calculate the probability value\n",
    "p=1-stats.t.cdf(abs(t),17)\n",
    "print(\"\\nThe probability value is\",p)"
   ]
  }
 ],
 "metadata": {
  "kernelspec": {
   "display_name": "Python 3 (ipykernel)",
   "language": "python",
   "name": "python3"
  },
  "language_info": {
   "codemirror_mode": {
    "name": "ipython",
    "version": 3
   },
   "file_extension": ".py",
   "mimetype": "text/x-python",
   "name": "python",
   "nbconvert_exporter": "python",
   "pygments_lexer": "ipython3",
   "version": "3.9.12"
  }
 },
 "nbformat": 4,
 "nbformat_minor": 5
}
